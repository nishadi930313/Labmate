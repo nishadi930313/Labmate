{
 "cells": [
  {
   "attachments": {},
   "cell_type": "markdown",
   "metadata": {},
   "source": [
    "Environnement:\n",
    "\n",
    "python 3.10.4\n",
    "torch torchvision torchaudio (2.0.0 - 0.15.1 - 2.0.1)\n",
    "ipykernel\n",
    "opencv-python\n",
    "cv2-plt-imshow\n",
    "pyyaml 5.1"
   ]
  },
  {
   "cell_type": "code",
   "execution_count": 2,
   "metadata": {},
   "outputs": [
    {
     "name": "stdout",
     "output_type": "stream",
     "text": [
      "Requirement already satisfied: Pillow>=7.1 in /home/dbs/anaconda3/envs/detectron2/lib/python3.10/site-packages (9.5.0)\n",
      "Requirement already satisfied: matplotlib in /home/dbs/anaconda3/envs/detectron2/lib/python3.10/site-packages (3.7.1)\n",
      "Requirement already satisfied: pycocotools>=2.0.2 in /home/dbs/anaconda3/envs/detectron2/lib/python3.10/site-packages (2.0.6)\n",
      "Requirement already satisfied: termcolor>=1.1 in /home/dbs/anaconda3/envs/detectron2/lib/python3.10/site-packages (2.2.0)\n",
      "Requirement already satisfied: yacs>=0.1.8 in /home/dbs/anaconda3/envs/detectron2/lib/python3.10/site-packages (0.1.8)\n",
      "Requirement already satisfied: tabulate in /home/dbs/anaconda3/envs/detectron2/lib/python3.10/site-packages (0.9.0)\n",
      "Requirement already satisfied: cloudpickle in /home/dbs/anaconda3/envs/detectron2/lib/python3.10/site-packages (2.2.1)\n",
      "Requirement already satisfied: tqdm>4.29.0 in /home/dbs/anaconda3/envs/detectron2/lib/python3.10/site-packages (4.65.0)\n",
      "Requirement already satisfied: tensorboard in /home/dbs/anaconda3/envs/detectron2/lib/python3.10/site-packages (2.12.2)\n",
      "Requirement already satisfied: fvcore<0.1.6,>=0.1.5 in /home/dbs/anaconda3/envs/detectron2/lib/python3.10/site-packages (0.1.5.post20221221)\n",
      "Requirement already satisfied: iopath<0.1.10,>=0.1.7 in /home/dbs/anaconda3/envs/detectron2/lib/python3.10/site-packages (0.1.9)\n",
      "Requirement already satisfied: omegaconf>=2.1 in /home/dbs/anaconda3/envs/detectron2/lib/python3.10/site-packages (2.3.0)\n",
      "Requirement already satisfied: hydra-core>=1.1 in /home/dbs/anaconda3/envs/detectron2/lib/python3.10/site-packages (1.3.2)\n",
      "Requirement already satisfied: black in /home/dbs/anaconda3/envs/detectron2/lib/python3.10/site-packages (23.3.0)\n",
      "Requirement already satisfied: packaging in /home/dbs/anaconda3/envs/detectron2/lib/python3.10/site-packages (23.0)\n",
      "Requirement already satisfied: contourpy>=1.0.1 in /home/dbs/anaconda3/envs/detectron2/lib/python3.10/site-packages (from matplotlib) (1.0.7)\n",
      "Requirement already satisfied: pyparsing>=2.3.1 in /home/dbs/anaconda3/envs/detectron2/lib/python3.10/site-packages (from matplotlib) (3.0.9)\n",
      "Requirement already satisfied: cycler>=0.10 in /home/dbs/anaconda3/envs/detectron2/lib/python3.10/site-packages (from matplotlib) (0.11.0)\n",
      "Requirement already satisfied: fonttools>=4.22.0 in /home/dbs/anaconda3/envs/detectron2/lib/python3.10/site-packages (from matplotlib) (4.39.3)\n",
      "Requirement already satisfied: kiwisolver>=1.0.1 in /home/dbs/anaconda3/envs/detectron2/lib/python3.10/site-packages (from matplotlib) (1.4.4)\n",
      "Requirement already satisfied: numpy>=1.20 in /home/dbs/anaconda3/envs/detectron2/lib/python3.10/site-packages (from matplotlib) (1.24.2)\n",
      "Requirement already satisfied: python-dateutil>=2.7 in /home/dbs/anaconda3/envs/detectron2/lib/python3.10/site-packages (from matplotlib) (2.8.2)\n",
      "Requirement already satisfied: PyYAML in /home/dbs/anaconda3/envs/detectron2/lib/python3.10/site-packages (from yacs>=0.1.8) (5.1)\n",
      "Requirement already satisfied: protobuf>=3.19.6 in /home/dbs/anaconda3/envs/detectron2/lib/python3.10/site-packages (from tensorboard) (4.22.3)\n",
      "Requirement already satisfied: setuptools>=41.0.0 in /home/dbs/anaconda3/envs/detectron2/lib/python3.10/site-packages (from tensorboard) (65.6.3)\n",
      "Requirement already satisfied: absl-py>=0.4 in /home/dbs/anaconda3/envs/detectron2/lib/python3.10/site-packages (from tensorboard) (1.4.0)\n",
      "Requirement already satisfied: grpcio>=1.48.2 in /home/dbs/anaconda3/envs/detectron2/lib/python3.10/site-packages (from tensorboard) (1.53.0)\n",
      "Requirement already satisfied: google-auth<3,>=1.6.3 in /home/dbs/anaconda3/envs/detectron2/lib/python3.10/site-packages (from tensorboard) (2.17.3)\n",
      "Requirement already satisfied: werkzeug>=1.0.1 in /home/dbs/anaconda3/envs/detectron2/lib/python3.10/site-packages (from tensorboard) (2.2.3)\n",
      "Requirement already satisfied: tensorboard-plugin-wit>=1.6.0 in /home/dbs/anaconda3/envs/detectron2/lib/python3.10/site-packages (from tensorboard) (1.8.1)\n",
      "Requirement already satisfied: tensorboard-data-server<0.8.0,>=0.7.0 in /home/dbs/anaconda3/envs/detectron2/lib/python3.10/site-packages (from tensorboard) (0.7.0)\n",
      "Requirement already satisfied: wheel>=0.26 in /home/dbs/anaconda3/envs/detectron2/lib/python3.10/site-packages (from tensorboard) (0.38.4)\n",
      "Requirement already satisfied: requests<3,>=2.21.0 in /home/dbs/anaconda3/envs/detectron2/lib/python3.10/site-packages (from tensorboard) (2.28.2)\n",
      "Requirement already satisfied: markdown>=2.6.8 in /home/dbs/anaconda3/envs/detectron2/lib/python3.10/site-packages (from tensorboard) (3.4.3)\n",
      "Requirement already satisfied: google-auth-oauthlib<1.1,>=0.5 in /home/dbs/anaconda3/envs/detectron2/lib/python3.10/site-packages (from tensorboard) (1.0.0)\n",
      "Requirement already satisfied: portalocker in /home/dbs/anaconda3/envs/detectron2/lib/python3.10/site-packages (from iopath<0.1.10,>=0.1.7) (2.7.0)\n",
      "Requirement already satisfied: antlr4-python3-runtime==4.9.* in /home/dbs/anaconda3/envs/detectron2/lib/python3.10/site-packages (from omegaconf>=2.1) (4.9.3)\n",
      "Requirement already satisfied: platformdirs>=2 in /home/dbs/anaconda3/envs/detectron2/lib/python3.10/site-packages (from black) (2.5.2)\n",
      "Requirement already satisfied: mypy-extensions>=0.4.3 in /home/dbs/anaconda3/envs/detectron2/lib/python3.10/site-packages (from black) (1.0.0)\n",
      "Requirement already satisfied: pathspec>=0.9.0 in /home/dbs/anaconda3/envs/detectron2/lib/python3.10/site-packages (from black) (0.11.1)\n",
      "Requirement already satisfied: click>=8.0.0 in /home/dbs/anaconda3/envs/detectron2/lib/python3.10/site-packages (from black) (8.1.3)\n",
      "Requirement already satisfied: tomli>=1.1.0 in /home/dbs/anaconda3/envs/detectron2/lib/python3.10/site-packages (from black) (2.0.1)\n",
      "Requirement already satisfied: six>=1.9.0 in /home/dbs/anaconda3/envs/detectron2/lib/python3.10/site-packages (from google-auth<3,>=1.6.3->tensorboard) (1.16.0)\n",
      "Requirement already satisfied: cachetools<6.0,>=2.0.0 in /home/dbs/anaconda3/envs/detectron2/lib/python3.10/site-packages (from google-auth<3,>=1.6.3->tensorboard) (5.3.0)\n",
      "Requirement already satisfied: rsa<5,>=3.1.4 in /home/dbs/anaconda3/envs/detectron2/lib/python3.10/site-packages (from google-auth<3,>=1.6.3->tensorboard) (4.9)\n",
      "Requirement already satisfied: pyasn1-modules>=0.2.1 in /home/dbs/anaconda3/envs/detectron2/lib/python3.10/site-packages (from google-auth<3,>=1.6.3->tensorboard) (0.2.8)\n",
      "Requirement already satisfied: requests-oauthlib>=0.7.0 in /home/dbs/anaconda3/envs/detectron2/lib/python3.10/site-packages (from google-auth-oauthlib<1.1,>=0.5->tensorboard) (1.3.1)\n",
      "Requirement already satisfied: certifi>=2017.4.17 in /home/dbs/anaconda3/envs/detectron2/lib/python3.10/site-packages (from requests<3,>=2.21.0->tensorboard) (2022.12.7)\n",
      "Requirement already satisfied: urllib3<1.27,>=1.21.1 in /home/dbs/anaconda3/envs/detectron2/lib/python3.10/site-packages (from requests<3,>=2.21.0->tensorboard) (1.26.15)\n",
      "Requirement already satisfied: charset-normalizer<4,>=2 in /home/dbs/anaconda3/envs/detectron2/lib/python3.10/site-packages (from requests<3,>=2.21.0->tensorboard) (3.1.0)\n",
      "Requirement already satisfied: idna<4,>=2.5 in /home/dbs/anaconda3/envs/detectron2/lib/python3.10/site-packages (from requests<3,>=2.21.0->tensorboard) (3.4)\n",
      "Requirement already satisfied: MarkupSafe>=2.1.1 in /home/dbs/anaconda3/envs/detectron2/lib/python3.10/site-packages (from werkzeug>=1.0.1->tensorboard) (2.1.2)\n",
      "Requirement already satisfied: pyasn1<0.5.0,>=0.4.6 in /home/dbs/anaconda3/envs/detectron2/lib/python3.10/site-packages (from pyasn1-modules>=0.2.1->google-auth<3,>=1.6.3->tensorboard) (0.4.8)\n",
      "Requirement already satisfied: oauthlib>=3.0.0 in /home/dbs/anaconda3/envs/detectron2/lib/python3.10/site-packages (from requests-oauthlib>=0.7.0->google-auth-oauthlib<1.1,>=0.5->tensorboard) (3.2.2)\n"
     ]
    }
   ],
   "source": [
    "import sys, os, distutils.core\n",
    "# !git clone 'https://github.com/facebookresearch/detectron2' # No need to redo\n",
    "dist = distutils.core.run_setup(\"./detectron2/setup.py\")\n",
    "!python -m pip install {' '.join([f\"'{x}'\" for x in dist.install_requires])}\n",
    "sys.path.insert(0, os.path.abspath('./detectron2'))\n"
   ]
  },
  {
   "cell_type": "code",
   "execution_count": 3,
   "metadata": {},
   "outputs": [
    {
     "name": "stdout",
     "output_type": "stream",
     "text": [
      "nvcc: NVIDIA (R) Cuda compiler driver\n",
      "Copyright (c) 2005-2019 NVIDIA Corporation\n",
      "Built on Sun_Jul_28_19:07:16_PDT_2019\n",
      "Cuda compilation tools, release 10.1, V10.1.243\n",
      "torch:  2.0 ; cuda:  cu117\n",
      "detectron2: 0.6\n"
     ]
    }
   ],
   "source": [
    "# not necessary\n",
    "\n",
    "import torch, detectron2\n",
    "!nvcc --version\n",
    "TORCH_VERSION = \".\".join(torch.__version__.split(\".\")[:2])\n",
    "CUDA_VERSION = torch.__version__.split(\"+\")[-1]\n",
    "print(\"torch: \", TORCH_VERSION, \"; cuda: \", CUDA_VERSION)\n",
    "print(\"detectron2:\", detectron2.__version__)"
   ]
  }
 ],
 "metadata": {
  "kernelspec": {
   "display_name": "detectron2",
   "language": "python",
   "name": "detectron2"
  },
  "language_info": {
   "codemirror_mode": {
    "name": "ipython",
    "version": 3
   },
   "file_extension": ".py",
   "mimetype": "text/x-python",
   "name": "python",
   "nbconvert_exporter": "python",
   "pygments_lexer": "ipython3",
   "version": "3.10.4"
  },
  "orig_nbformat": 4
 },
 "nbformat": 4,
 "nbformat_minor": 2
}
